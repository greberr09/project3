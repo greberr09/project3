{
 "cells": [
  {
   "cell_type": "markdown",
   "id": "664e3c1f",
   "metadata": {},
   "source": [
    "Export the database if updated with:\n",
    "\n",
    "mongodump --archive=EVDB.gz --gzip --db ev_db\n",
    "\n",
    "Import the database to your server with:  \n",
    "\n",
    "mongorestore --gzip --archive=EVDB.gz --db ev_db"
   ]
  },
  {
   "cell_type": "markdown",
   "id": "c648169e",
   "metadata": {},
   "source": [
    "\n",
    "import a file with:\n",
    "mongoimport --db ev_db --collection ev_population_data  --drop --type=csv --headerline --file=\"Electric_Vehicle_Population_Data.csv\";\n",
    "\n",
    "mongoimport --db ev_db --collection ev_tax_incentives  --drop --type=csv --headerline --file=\"ev_tax_incentives.csv\";"
   ]
  },
  {
   "cell_type": "code",
   "execution_count": 1,
   "id": "3ecdd008",
   "metadata": {},
   "outputs": [],
   "source": [
    "# Import dependencies\n",
    "from pymongo import MongoClient\n",
    "from bson import ObjectId\n",
    "from pprint import pprint\n",
    "\n",
    "import os\n",
    "\n",
    "import sys\n",
    "sys.path.append(\"../\")"
   ]
  },
  {
   "cell_type": "code",
   "execution_count": 2,
   "id": "59390c4a",
   "metadata": {},
   "outputs": [],
   "source": [
    "# Create an instance of MongoClient\n",
    "\n",
    "mongo = MongoClient(port=27017)\n"
   ]
  },
  {
   "cell_type": "code",
   "execution_count": 3,
   "id": "71e373c1",
   "metadata": {},
   "outputs": [],
   "source": [
    "# assign the ev_db database to a variable name\n",
    "\n",
    "db = mongo['ev_db']"
   ]
  },
  {
   "cell_type": "code",
   "execution_count": 4,
   "id": "4b6821b6",
   "metadata": {},
   "outputs": [
    {
     "data": {
      "text/plain": [
       "['admin',\n",
       " 'config',\n",
       " 'env_db',\n",
       " 'ev',\n",
       " 'ev_db',\n",
       " 'local',\n",
       " 'test',\n",
       " 'travel_db',\n",
       " 'uk_food']"
      ]
     },
     "execution_count": 4,
     "metadata": {},
     "output_type": "execute_result"
    }
   ],
   "source": [
    "mongo.list_database_names()"
   ]
  },
  {
   "cell_type": "code",
   "execution_count": 5,
   "id": "81cc170c",
   "metadata": {},
   "outputs": [
    {
     "name": "stdout",
     "output_type": "stream",
     "text": [
      "ev_db\n"
     ]
    }
   ],
   "source": [
    "print(db.name)"
   ]
  },
  {
   "cell_type": "code",
   "execution_count": 6,
   "id": "96501f4b",
   "metadata": {},
   "outputs": [
    {
     "name": "stdout",
     "output_type": "stream",
     "text": [
      "['ev_registration_counts_by_state', 'ev_population_data', 'ev_sales_by_model', 'ev_tax_incentives', 'historical_ev_car_sales', 'ev_charging_infrastructure']\n"
     ]
    }
   ],
   "source": [
    "# Get the list of collection names in the ev_db database\n",
    "\n",
    "collection_names = db.list_collection_names()\n",
    "\n",
    "print(collection_names)\n"
   ]
  },
  {
   "cell_type": "code",
   "execution_count": 7,
   "id": "6a0d92df",
   "metadata": {},
   "outputs": [
    {
     "name": "stdout",
     "output_type": "stream",
     "text": [
      "==== Fields: ====\n",
      "['_id', 'VIN_(1-10)', 'County', 'City', 'State', 'Postal_Code', 'Model_Year', 'Make', 'Model', 'Electric_Vehicle_Type', 'Clean_Alternative_Fuel_Vehicle_(CAFV)_Eligibility', 'Electric_Range', 'Base_MSRP', 'Legislative_District', 'DOL_Vehicle_ID', 'Vehicle_Location', 'Electric_Utility', '2020_Census_Tract']\n",
      "================\n",
      "\n",
      "{'2020_Census_Tract': 32003005702,\n",
      " 'Base_MSRP': 0,\n",
      " 'City': 'Laughlin',\n",
      " 'Clean_Alternative_Fuel_Vehicle_(CAFV)_Eligibility': 'Clean Alternative Fuel '\n",
      "                                                      'Vehicle Eligible',\n",
      " 'County': 'Clark',\n",
      " 'DOL_Vehicle_ID': 5204412,\n",
      " 'Electric_Range': 38,\n",
      " 'Electric_Utility': '',\n",
      " 'Electric_Vehicle_Type': 'Plug-in Hybrid Electric Vehicle (PHEV)',\n",
      " 'Legislative_District': '',\n",
      " 'Make': 'CHEVROLET',\n",
      " 'Model': 'VOLT',\n",
      " 'Model_Year': 2013,\n",
      " 'Postal_Code': 89029,\n",
      " 'State': 'NV',\n",
      " 'VIN_(1-10)': '1G1RD6E45D',\n",
      " 'Vehicle_Location': 'POINT (-114.57245 35.16815)',\n",
      " '_id': ObjectId('64baccb0cc1c315da2b103d3')}\n"
     ]
    }
   ],
   "source": [
    "# review a document in population collection\n",
    "\n",
    "charging_stations = db['ev_charging_infrastructure']\n",
    "ev_pop = db['ev_population_data']\n",
    "\n",
    "\n",
    "# Capture the results to a variable\n",
    "\n",
    "document = ev_pop.find_one()\n",
    "\n",
    "# Get the field names from the document\n",
    "field_names = list(document.keys())\n",
    "\n",
    "print(\"==== Fields: ====\")\n",
    "print(field_names)\n",
    "\n",
    "print(\"================\\n\")\n",
    "\n",
    "# Pretty print the document\n",
    "\n",
    "pprint(document)"
   ]
  },
  {
   "cell_type": "code",
   "execution_count": 8,
   "id": "33e2447b",
   "metadata": {},
   "outputs": [
    {
     "name": "stdout",
     "output_type": "stream",
     "text": [
      "{'_id': ObjectId('64baccb0cc1c315da2b103d3'), 'VIN_(1-10)': '1G1RD6E45D', 'County': 'Clark', 'City': 'Laughlin', 'State': 'NV', 'Postal_Code': 89029, 'Model_Year': 2013, 'Make': 'CHEVROLET', 'Model': 'VOLT', 'Electric_Vehicle_Type': 'Plug-in Hybrid Electric Vehicle (PHEV)', 'Clean_Alternative_Fuel_Vehicle_(CAFV)_Eligibility': 'Clean Alternative Fuel Vehicle Eligible', 'Electric_Range': 38, 'Base_MSRP': 0, 'Legislative_District': '', 'DOL_Vehicle_ID': 5204412, 'Vehicle_Location': 'POINT (-114.57245 35.16815)', 'Electric_Utility': '', '2020_Census_Tract': 32003005702}\n",
      "{'_id': ObjectId('64baccb0cc1c315da2b103d4'), 'VIN_(1-10)': 'JN1AZ0CP8B', 'County': 'Yakima', 'City': 'Yakima', 'State': 'WA', 'Postal_Code': 98901, 'Model_Year': 2011, 'Make': 'NISSAN', 'Model': 'LEAF', 'Electric_Vehicle_Type': 'Battery Electric Vehicle (BEV)', 'Clean_Alternative_Fuel_Vehicle_(CAFV)_Eligibility': 'Clean Alternative Fuel Vehicle Eligible', 'Electric_Range': 73, 'Base_MSRP': 0, 'Legislative_District': 15, 'DOL_Vehicle_ID': 218972519, 'Vehicle_Location': 'POINT (-120.50721 46.60448)', 'Electric_Utility': 'PACIFICORP', '2020_Census_Tract': 53077001602}\n",
      "{'_id': ObjectId('64baccb0cc1c315da2b103d5'), 'VIN_(1-10)': 'JTMEB3FV6N', 'County': 'Monroe', 'City': 'Key West', 'State': 'FL', 'Postal_Code': 33040, 'Model_Year': 2022, 'Make': 'TOYOTA', 'Model': 'RAV4 PRIME', 'Electric_Vehicle_Type': 'Plug-in Hybrid Electric Vehicle (PHEV)', 'Clean_Alternative_Fuel_Vehicle_(CAFV)_Eligibility': 'Clean Alternative Fuel Vehicle Eligible', 'Electric_Range': 42, 'Base_MSRP': 0, 'Legislative_District': '', 'DOL_Vehicle_ID': 198968248, 'Vehicle_Location': 'POINT (-81.80023 24.5545)', 'Electric_Utility': '', '2020_Census_Tract': 12087972100}\n",
      "{'_id': ObjectId('64baccb0cc1c315da2b103d6'), 'VIN_(1-10)': '3FA6P0SU1K', 'County': 'Snohomish', 'City': 'Everett', 'State': 'WA', 'Postal_Code': 98201, 'Model_Year': 2019, 'Make': 'FORD', 'Model': 'FUSION', 'Electric_Vehicle_Type': 'Plug-in Hybrid Electric Vehicle (PHEV)', 'Clean_Alternative_Fuel_Vehicle_(CAFV)_Eligibility': 'Not eligible due to low battery range', 'Electric_Range': 26, 'Base_MSRP': 0, 'Legislative_District': 38, 'DOL_Vehicle_ID': 2006714, 'Vehicle_Location': 'POINT (-122.20596 47.97659)', 'Electric_Utility': 'PUGET SOUND ENERGY INC', '2020_Census_Tract': 53061041500}\n",
      "{'_id': ObjectId('64baccb0cc1c315da2b103d7'), 'VIN_(1-10)': '1N4AZ0CP4D', 'County': 'Snohomish', 'City': 'Everett', 'State': 'WA', 'Postal_Code': 98203, 'Model_Year': 2013, 'Make': 'NISSAN', 'Model': 'LEAF', 'Electric_Vehicle_Type': 'Battery Electric Vehicle (BEV)', 'Clean_Alternative_Fuel_Vehicle_(CAFV)_Eligibility': 'Clean Alternative Fuel Vehicle Eligible', 'Electric_Range': 75, 'Base_MSRP': 0, 'Legislative_District': 38, 'DOL_Vehicle_ID': 253546023, 'Vehicle_Location': 'POINT (-122.23019 47.94949)', 'Electric_Utility': 'PUGET SOUND ENERGY INC', '2020_Census_Tract': 53061040900}\n",
      "{'_id': ObjectId('64baccb0cc1c315da2b103d8'), 'VIN_(1-10)': '1N4AZ0CP0D', 'County': 'Snohomish', 'City': 'Mukilteo', 'State': 'WA', 'Postal_Code': 98275, 'Model_Year': 2013, 'Make': 'NISSAN', 'Model': 'LEAF', 'Electric_Vehicle_Type': 'Battery Electric Vehicle (BEV)', 'Clean_Alternative_Fuel_Vehicle_(CAFV)_Eligibility': 'Clean Alternative Fuel Vehicle Eligible', 'Electric_Range': 75, 'Base_MSRP': 0, 'Legislative_District': 21, 'DOL_Vehicle_ID': 176817364, 'Vehicle_Location': 'POINT (-122.29196 47.89908)', 'Electric_Utility': 'PUGET SOUND ENERGY INC', '2020_Census_Tract': 53061042001}\n",
      "{'_id': ObjectId('64baccb0cc1c315da2b103d9'), 'VIN_(1-10)': '5YJ3E1EB5J', 'County': 'Snohomish', 'City': 'Bothell', 'State': 'WA', 'Postal_Code': 98021, 'Model_Year': 2018, 'Make': 'TESLA', 'Model': 'MODEL 3', 'Electric_Vehicle_Type': 'Battery Electric Vehicle (BEV)', 'Clean_Alternative_Fuel_Vehicle_(CAFV)_Eligibility': 'Clean Alternative Fuel Vehicle Eligible', 'Electric_Range': 215, 'Base_MSRP': 0, 'Legislative_District': 1, 'DOL_Vehicle_ID': 475635324, 'Vehicle_Location': 'POINT (-122.18384 47.8031)', 'Electric_Utility': 'PUGET SOUND ENERGY INC', '2020_Census_Tract': 53061051916}\n",
      "{'_id': ObjectId('64baccb0cc1c315da2b103da'), 'VIN_(1-10)': 'KNDJP3AE2G', 'County': 'Skagit', 'City': 'Anacortes', 'State': 'WA', 'Postal_Code': 98221, 'Model_Year': 2016, 'Make': 'KIA', 'Model': 'SOUL', 'Electric_Vehicle_Type': 'Battery Electric Vehicle (BEV)', 'Clean_Alternative_Fuel_Vehicle_(CAFV)_Eligibility': 'Clean Alternative Fuel Vehicle Eligible', 'Electric_Range': 93, 'Base_MSRP': 31950, 'Legislative_District': 40, 'DOL_Vehicle_ID': 100489049, 'Vehicle_Location': 'POINT (-122.61214 48.51748)', 'Electric_Utility': 'PUGET SOUND ENERGY INC', '2020_Census_Tract': 53057940301}\n",
      "{'_id': ObjectId('64baccb0cc1c315da2b103db'), 'VIN_(1-10)': 'WA1F2AFY1L', 'County': 'Thurston', 'City': 'Lacey', 'State': 'WA', 'Postal_Code': 98516, 'Model_Year': 2020, 'Make': 'AUDI', 'Model': 'Q5 E', 'Electric_Vehicle_Type': 'Plug-in Hybrid Electric Vehicle (PHEV)', 'Clean_Alternative_Fuel_Vehicle_(CAFV)_Eligibility': 'Not eligible due to low battery range', 'Electric_Range': 20, 'Base_MSRP': 0, 'Legislative_District': 22, 'DOL_Vehicle_ID': 103317238, 'Vehicle_Location': 'POINT (-122.75379 47.06316)', 'Electric_Utility': 'PUGET SOUND ENERGY INC', '2020_Census_Tract': 53067012221}\n",
      "{'_id': ObjectId('64baccb0cc1c315da2b103dc'), 'VIN_(1-10)': '1G1FW6S08H', 'County': 'Skagit', 'City': 'Concrete', 'State': 'WA', 'Postal_Code': 98237, 'Model_Year': 2017, 'Make': 'CHEVROLET', 'Model': 'BOLT EV', 'Electric_Vehicle_Type': 'Battery Electric Vehicle (BEV)', 'Clean_Alternative_Fuel_Vehicle_(CAFV)_Eligibility': 'Clean Alternative Fuel Vehicle Eligible', 'Electric_Range': 238, 'Base_MSRP': 0, 'Legislative_District': 39, 'DOL_Vehicle_ID': 186750406, 'Vehicle_Location': 'POINT (-121.7515 48.53892)', 'Electric_Utility': 'PUGET SOUND ENERGY INC', '2020_Census_Tract': 53057951101}\n"
     ]
    }
   ],
   "source": [
    "cursor = ev_pop.find().limit(10)\n",
    "\n",
    "for document in cursor:\n",
    "    print(document)\n"
   ]
  },
  {
   "cell_type": "code",
   "execution_count": 9,
   "id": "18ab463c",
   "metadata": {},
   "outputs": [
    {
     "name": "stdout",
     "output_type": "stream",
     "text": [
      "==== Fields: ====\n",
      "['_id', 'Fuel Type Code', 'Station Name', 'Street Address', 'Intersection Directions', 'City', 'State', 'ZIP', 'Plus4', 'Station Phone', 'Status Code', 'Expected Date', 'Groups With Access Code', 'Access Days Time', 'Cards Accepted', 'BD Blends', 'NG Fill Type Code', 'NG PSI', 'EV Level1 EVSE Num', 'EV Level2 EVSE Num', 'EV DC Fast Count', 'EV Other Info', 'EV Network', 'EV Network Web', 'Geocode Status', 'Latitude', 'Longitude', 'Date Last Confirmed', 'ID', 'Updated At', 'Owner Type Code', 'Federal Agency ID', 'Federal Agency Name', 'Open Date', 'Hydrogen Status Link', 'NG Vehicle Class', 'LPG Primary', 'E85 Blender Pump', 'EV Connector Types', 'Country', 'Intersection Directions (French)', 'Access Days Time (French)', 'BD Blends (French)', 'Groups With Access Code (French)', 'Hydrogen Is Retail', 'Access Code', 'Access Detail Code', 'Federal Agency Code', 'Facility Type', 'CNG Dispenser Num', 'CNG On-Site Renewable Source', 'CNG Total Compression Capacity', 'CNG Storage Capacity', 'LNG On-Site Renewable Source', 'E85 Other Ethanol Blends', 'EV Pricing', 'EV Pricing (French)', 'LPG Nozzle Types', 'Hydrogen Pressures', 'Hydrogen Standards', 'CNG Fill Type Code', 'CNG PSI', 'CNG Vehicle Class', 'LNG Vehicle Class', 'EV On-Site Renewable Source', 'Restricted Access', 'RD Blends', 'RD Blends (French)', 'RD Blended with Biodiesel', 'RD Maximum Biodiesel Level', 'NPS Unit Name', 'CNG Station Sells Renewable Natural Gas', 'LNG Station Sells Renewable Natural Gas', 'Maximum Vehicle Class']\n",
      "================\n",
      "\n",
      "{'Access Code': 'public',\n",
      " 'Access Days Time': '24 hours daily',\n",
      " 'Access Days Time (French)': '',\n",
      " 'Access Detail Code': '',\n",
      " 'BD Blends': '',\n",
      " 'BD Blends (French)': '',\n",
      " 'CNG Dispenser Num': '',\n",
      " 'CNG Fill Type Code': '',\n",
      " 'CNG On-Site Renewable Source': '',\n",
      " 'CNG PSI': '',\n",
      " 'CNG Station Sells Renewable Natural Gas': '',\n",
      " 'CNG Storage Capacity': '',\n",
      " 'CNG Total Compression Capacity': '',\n",
      " 'CNG Vehicle Class': '',\n",
      " 'Cards Accepted': '',\n",
      " 'City': 'El Monte',\n",
      " 'Country': 'US',\n",
      " 'Date Last Confirmed': '2022-09-14',\n",
      " 'E85 Blender Pump': '',\n",
      " 'E85 Other Ethanol Blends': '',\n",
      " 'EV Connector Types': 'J1772',\n",
      " 'EV DC Fast Count': '',\n",
      " 'EV Level1 EVSE Num': '',\n",
      " 'EV Level2 EVSE Num': 3,\n",
      " 'EV Network': 'Non-Networked',\n",
      " 'EV Network Web': '',\n",
      " 'EV On-Site Renewable Source': '',\n",
      " 'EV Other Info': '',\n",
      " 'EV Pricing': 'Free',\n",
      " 'EV Pricing (French)': '',\n",
      " 'Expected Date': '',\n",
      " 'Facility Type': 'STATE_GOV',\n",
      " 'Federal Agency Code': '',\n",
      " 'Federal Agency ID': '',\n",
      " 'Federal Agency Name': '',\n",
      " 'Fuel Type Code': 'ELEC',\n",
      " 'Geocode Status': 'GPS',\n",
      " 'Groups With Access Code': 'Public',\n",
      " 'Groups With Access Code (French)': 'Public',\n",
      " 'Hydrogen Is Retail': '',\n",
      " 'Hydrogen Pressures': '',\n",
      " 'Hydrogen Standards': '',\n",
      " 'Hydrogen Status Link': '',\n",
      " 'ID': 1583,\n",
      " 'Intersection Directions': '',\n",
      " 'Intersection Directions (French)': '',\n",
      " 'LNG On-Site Renewable Source': '',\n",
      " 'LNG Station Sells Renewable Natural Gas': '',\n",
      " 'LNG Vehicle Class': '',\n",
      " 'LPG Nozzle Types': '',\n",
      " 'LPG Primary': '',\n",
      " 'Latitude': 34.06872,\n",
      " 'Longitude': -118.064,\n",
      " 'Maximum Vehicle Class': '',\n",
      " 'NG Fill Type Code': '',\n",
      " 'NG PSI': '',\n",
      " 'NG Vehicle Class': '',\n",
      " 'NPS Unit Name': '',\n",
      " 'Open Date': '1996-10-15',\n",
      " 'Owner Type Code': 'SG',\n",
      " 'Plus4': '',\n",
      " 'RD Blended with Biodiesel': '',\n",
      " 'RD Blends': '',\n",
      " 'RD Blends (French)': '',\n",
      " 'RD Maximum Biodiesel Level': '',\n",
      " 'Restricted Access': 'false',\n",
      " 'State': 'CA',\n",
      " 'Station Name': 'California Air Resources Board',\n",
      " 'Station Phone': '626-575-6800',\n",
      " 'Status Code': 'E',\n",
      " 'Street Address': '9530 Telstar Ave',\n",
      " 'Updated At': '2023-02-14 15:54:11 UTC',\n",
      " 'ZIP': 91731,\n",
      " '_id': ObjectId('64bace7cd31b48cded393d53')}\n"
     ]
    }
   ],
   "source": [
    "# charging stations\n",
    "\n",
    "charging_stations = db['ev_charging_infrastructure']\n",
    "\n",
    "\n",
    "# Capture the results to a variable\n",
    "\n",
    "document = charging_stations.find_one()\n",
    "\n",
    "# Get the field names from the document\n",
    "field_names = list(document.keys())\n",
    "\n",
    "print(\"==== Fields: ====\")\n",
    "print(field_names)\n",
    "\n",
    "print(\"================\\n\")\n",
    "\n",
    "# Pretty print the document\n",
    "\n",
    "pprint(document)"
   ]
  },
  {
   "cell_type": "code",
   "execution_count": 10,
   "id": "30a207cc",
   "metadata": {},
   "outputs": [
    {
     "name": "stdout",
     "output_type": "stream",
     "text": [
      "==== Fields: ====\n",
      "['_id', 'State', 'Registration Count', '']\n",
      "================\n",
      "\n",
      "{'': '',\n",
      " 'Registration Count': ' 4,750 ',\n",
      " 'State': 'Alabama',\n",
      " '_id': ObjectId('64bad1b81faccb6249a17efd')}\n"
     ]
    }
   ],
   "source": [
    "# registration_counts\n",
    "\n",
    "reg_counts = db['ev_registration_counts_by_state']\n",
    "\n",
    "\n",
    "# Capture the results to a variable\n",
    "\n",
    "document = reg_counts.find_one()\n",
    "\n",
    "# Get the field names from the document\n",
    "field_names = list(document.keys())\n",
    "\n",
    "print(\"==== Fields: ====\")\n",
    "print(field_names)\n",
    "\n",
    "print(\"================\\n\")\n",
    "\n",
    "# Pretty print the document\n",
    "\n",
    "pprint(document)"
   ]
  },
  {
   "cell_type": "code",
   "execution_count": 11,
   "id": "6f38f3b0",
   "metadata": {},
   "outputs": [
    {
     "name": "stdout",
     "output_type": "stream",
     "text": [
      "==== Fields: ====\n",
      "['_id', 'region', 'category', 'parameter', 'mode', 'powertrain', 'year', 'unit', 'value']\n",
      "================\n",
      "\n",
      "{'_id': ObjectId('64bad411b2df5ce3e982e824'),\n",
      " 'category': 'Historical',\n",
      " 'mode': 'Cars',\n",
      " 'parameter': 'EV sales',\n",
      " 'powertrain': 'BEV',\n",
      " 'region': 'Australia',\n",
      " 'unit': 'Vehicles',\n",
      " 'value': 49,\n",
      " 'year': 2011}\n"
     ]
    }
   ],
   "source": [
    "# historical car sales by country\n",
    "\n",
    "hist = db['historical_ev_car_sales']\n",
    "\n",
    "\n",
    "# Capture the results to a variable\n",
    "\n",
    "document = hist.find_one()\n",
    "\n",
    "# Get the field names from the document\n",
    "field_names = list(document.keys())\n",
    "\n",
    "print(\"==== Fields: ====\")\n",
    "print(field_names)\n",
    "\n",
    "print(\"================\\n\")\n",
    "\n",
    "# Pretty print the document\n",
    "\n",
    "pprint(document)"
   ]
  },
  {
   "cell_type": "code",
   "execution_count": 12,
   "id": "7e07d716",
   "metadata": {},
   "outputs": [
    {
     "name": "stdout",
     "output_type": "stream",
     "text": [
      "==== Fields: ====\n",
      "['_id', 'bill_number', 'bill_name', 'jurisdiction', 'date_enacted', 'effective_date', 'incentive_type', 'max_credit_amount_new', 'max_credit_amount_used', 'max_vehicle_cost_new', 'max_vehicle-cost_used', 'made_in_US_only', 'eligibility_requirements', 'eligible_models', 'vehicle_acquisition_date', 'provisions']\n",
      "================\n",
      "\n",
      "{'_id': ObjectId('64c1cf7907317c4b32bdf917'),\n",
      " 'bill_name': 'Inflation Reduction Act of 2022',\n",
      " 'bill_number': 'Public Law 117-169',\n",
      " 'date_enacted': '16-Aug-22',\n",
      " 'effective_date': '17-Aug-22',\n",
      " 'eligibility_requirements': 'yes',\n",
      " 'eligible_models': '',\n",
      " 'incentive_type': 'ev_tax_credit',\n",
      " 'jurisdiction': 'federal',\n",
      " 'made_in_US_only': 'yes',\n",
      " 'max_credit_amount_new': '7,500',\n",
      " 'max_credit_amount_used': '4,000',\n",
      " 'max_vehicle-cost_used': '25,000',\n",
      " 'max_vehicle_cost_new': '80,000',\n",
      " 'provisions': 'Lifts 200,000 vehicle per manufactuer limit and adds used '\n",
      "               'vehicles as of 1/1/2023. Additional requirements for vehicles '\n",
      "               'placed in service after Aug 1, 2022, Jan 1, 2023, and April '\n",
      "               '17, 2023 on household income and battery life and materials',\n",
      " 'vehicle_acquisition_date': '17-Aug-22'}\n"
     ]
    }
   ],
   "source": [
    "# tax incentives\n",
    "\n",
    "tax = db['ev_tax_incentives']\n",
    "\n",
    "\n",
    "# Capture the results to a variable\n",
    "\n",
    "document = tax.find_one()\n",
    "\n",
    "# Get the field names from the document\n",
    "field_names = list(document.keys())\n",
    "\n",
    "print(\"==== Fields: ====\")\n",
    "print(field_names)\n",
    "\n",
    "print(\"================\\n\")\n",
    "\n",
    "# Pretty print the document\n",
    "\n",
    "pprint(document)"
   ]
  }
 ],
 "metadata": {
  "kernelspec": {
   "display_name": "Python 3 (ipykernel)",
   "language": "python",
   "name": "python3"
  },
  "language_info": {
   "codemirror_mode": {
    "name": "ipython",
    "version": 3
   },
   "file_extension": ".py",
   "mimetype": "text/x-python",
   "name": "python",
   "nbconvert_exporter": "python",
   "pygments_lexer": "ipython3",
   "version": "3.9.16"
  }
 },
 "nbformat": 4,
 "nbformat_minor": 5
}
